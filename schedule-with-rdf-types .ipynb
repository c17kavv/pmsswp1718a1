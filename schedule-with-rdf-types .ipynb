{
 "cells": [
  {
   "cell_type": "markdown",
   "metadata": {
    "deletable": true,
    "editable": true
   },
   "source": [
    "# Μετατρέποντας στη μορφή N-Triples\n",
    "\n",
    "Ολοκληρώνουμε την κατασκευή του ωρολογίου προγράμματος, μετατρέποντας τις τριάδες στο πρότυπο μορφότυπο [N-Triples](http://www.w3.org/TR/n-triples/).\n",
    "\n",
    "## 1. Φορτώστε τις τριάδες\n",
    "\n",
    "Βάλτε σε μια λίστα τις τριάδες από το τελικό csv του προηγούμενου εργαστηρίου. Αυτές θα πρέπει:\n",
    "\n",
    "* Να χρησιμοποιούν URIs με νόμιμους χαρακτήρες\n",
    "* Να έχουν σημειωμένους τους ανώνυμους κόμβους με το πρόθεμα `_:`\n",
    "* Όλα τα URIs να έχουν τη μορφή http URIs\n",
    "\n",
    "    * `http://dilab77.ionio.gr/swp/you/vocab#` για τα κατηγορήματα\n",
    "    * `http://dilab77.ionio.gr/swp/you/resource/` για τα υπόλοιπα URIs\n",
    "    \n",
    "    όπου you πρέπει να είναι το username που έχετε στο JupyterHub.\n",
    "   "
   ]
  },
  {
   "cell_type": "code",
   "execution_count": 41,
   "metadata": {
    "collapsed": false,
    "deletable": true,
    "editable": true
   },
   "outputs": [
    {
     "name": "stdout",
     "output_type": "stream",
     "text": [
      "[['_:0', 'http://dilab77.ionio.gr/swp/c17kavv/vocab#ΗΜΕΡΑ', 'ΔΕΥΤΕΡΑ'], ['_:0', 'http://dilab77.ionio.gr/swp/c17kavv/vocab#ΕΝΑΡΞΗ', '15'], ['_:0', 'http://dilab77.ionio.gr/swp/c17kavv/vocab#ΛΗΞΗ', '18'], ['_:0', 'http://dilab77.ionio.gr/swp/c17kavv/vocab#ΚΑΘΗΓΗΤΗΣ', 'http://dilab77.ionio.gr/swp/c17kavv/resource/ΟΙΚΟΝΟΜΟΥΨΥΧΑΓΩΓΙΚΟ'], ['_:0', 'http://dilab77.ionio.gr/swp/c17kavv/vocab#ΜΑΘΗΜΑ', 'http://dilab77.ionio.gr/swp/c17kavv/resource/'], ['_:0', 'http://dilab77.ionio.gr/swp/c17kavv/vocab#ΑΙΘΟΥΣΑ', 'http://dilab77.ionio.gr/swp/c17kavv/resource/ΑΙΘΟΥΣΑ1'], ['_:1', 'http://dilab77.ionio.gr/swp/c17kavv/vocab#ΗΜΕΡΑ', 'ΔΕΥΤΕΡΑ'], ['_:1', 'http://dilab77.ionio.gr/swp/c17kavv/vocab#ΕΝΑΡΞΗ', '18'], ['_:1', 'http://dilab77.ionio.gr/swp/c17kavv/vocab#ΛΗΞΗ', '21'], ['_:1', 'http://dilab77.ionio.gr/swp/c17kavv/vocab#ΚΑΘΗΓΗΤΗΣ', 'http://dilab77.ionio.gr/swp/c17kavv/resource/ΤΣΩΧΟΥ'], ['_:1', 'http://dilab77.ionio.gr/swp/c17kavv/vocab#ΜΑΘΗΜΑ', 'http://dilab77.ionio.gr/swp/c17kavv/resource/ΑΣΦΑΛΕΙΑ'], ['_:1', 'http://dilab77.ionio.gr/swp/c17kavv/vocab#ΑΙΘΟΥΣΑ', 'http://dilab77.ionio.gr/swp/c17kavv/resource/ΓΑΛΗΝΟΣ'], ['_:2', 'http://dilab77.ionio.gr/swp/c17kavv/vocab#ΗΜΕΡΑ', 'ΤΡΙΤΗ'], ['_:2', 'http://dilab77.ionio.gr/swp/c17kavv/vocab#ΕΝΑΡΞΗ', '15'], ['_:2', 'http://dilab77.ionio.gr/swp/c17kavv/vocab#ΛΗΞΗ', '18'], ['_:2', 'http://dilab77.ionio.gr/swp/c17kavv/vocab#ΚΑΘΗΓΗΤΗΣ', 'http://dilab77.ionio.gr/swp/c17kavv/resource/ΣΤΕΦΑΝΙΔΑΚΗΣ'], ['_:2', 'http://dilab77.ionio.gr/swp/c17kavv/vocab#ΜΑΘΗΜΑ', 'http://dilab77.ionio.gr/swp/c17kavv/resource/ΣΗΜΑΣΙΟΛΟΓΙΚΟΣ%20ΙΣΤΟΣ'], ['_:2', 'http://dilab77.ionio.gr/swp/c17kavv/vocab#ΑΙΘΟΥΣΑ', 'http://dilab77.ionio.gr/swp/c17kavv/resource/ΑΡΕΤΑΙΟΣ'], ['_:3', 'http://dilab77.ionio.gr/swp/c17kavv/vocab#ΗΜΕΡΑ', 'ΤΡΙΤΗ'], ['_:3', 'http://dilab77.ionio.gr/swp/c17kavv/vocab#ΕΝΑΡΞΗ', '18'], ['_:3', 'http://dilab77.ionio.gr/swp/c17kavv/vocab#ΛΗΞΗ', '21'], ['_:3', 'http://dilab77.ionio.gr/swp/c17kavv/vocab#ΚΑΘΗΓΗΤΗΣ', 'http://dilab77.ionio.gr/swp/c17kavv/resource/ΒΛΑΜΟΣ'], ['_:3', 'http://dilab77.ionio.gr/swp/c17kavv/vocab#ΜΑΘΗΜΑ', 'http://dilab77.ionio.gr/swp/c17kavv/resource/ΒΙΟΠΛΗΡΟΦΟΡΙΚΗ'], ['_:3', 'http://dilab77.ionio.gr/swp/c17kavv/vocab#ΑΙΘΟΥΣΑ', 'http://dilab77.ionio.gr/swp/c17kavv/resource/ΑΙΘΟΥΣΑ2'], ['_:4', 'http://dilab77.ionio.gr/swp/c17kavv/vocab#ΗΜΕΡΑ', 'ΤΕΤΑΡΤΗ'], ['_:4', 'http://dilab77.ionio.gr/swp/c17kavv/vocab#ΕΝΑΡΞΗ', '15'], ['_:4', 'http://dilab77.ionio.gr/swp/c17kavv/vocab#ΛΗΞΗ', '18'], ['_:4', 'http://dilab77.ionio.gr/swp/c17kavv/vocab#ΚΑΘΗΓΗΤΗΣ', 'http://dilab77.ionio.gr/swp/c17kavv/resource/ΠΑΤΕΛΗ'], ['_:4', 'http://dilab77.ionio.gr/swp/c17kavv/vocab#ΜΑΘΗΜΑ', 'http://dilab77.ionio.gr/swp/c17kavv/resource/ΗΛΕΚΤΟΝΙΚΟ%20ΕΠΙΧΕΙΡΗΝ'], ['_:4', 'http://dilab77.ionio.gr/swp/c17kavv/vocab#ΑΙΘΟΥΣΑ', 'http://dilab77.ionio.gr/swp/c17kavv/resource/ΑΙΘΟΥΣΑ2'], ['_:5', 'http://dilab77.ionio.gr/swp/c17kavv/vocab#ΗΜΕΡΑ', 'ΤΕΤΑΡΤΗ'], ['_:5', 'http://dilab77.ionio.gr/swp/c17kavv/vocab#ΕΝΑΡΞΗ', '18'], ['_:5', 'http://dilab77.ionio.gr/swp/c17kavv/vocab#ΛΗΞΗ', '21'], ['_:5', 'http://dilab77.ionio.gr/swp/c17kavv/vocab#ΚΑΘΗΓΗΤΗΣ', 'http://dilab77.ionio.gr/swp/c17kavv/resource/ΑΥΛΩΝΙΤΗΣ'], ['_:5', 'http://dilab77.ionio.gr/swp/c17kavv/vocab#ΜΑΘΗΜΑ', 'http://dilab77.ionio.gr/swp/c17kavv/resource/ΜΟΝΤΕΛΟΠΟΙΗΣΗ'], ['_:5', 'http://dilab77.ionio.gr/swp/c17kavv/vocab#ΑΙΘΟΥΣΑ', 'http://dilab77.ionio.gr/swp/c17kavv/resource/ΑΙΘΟΥΣΑ2'], ['_:6', 'http://dilab77.ionio.gr/swp/c17kavv/vocab#ΗΜΕΡΑ', 'ΠΕΜΠΤΗ'], ['_:6', 'http://dilab77.ionio.gr/swp/c17kavv/vocab#ΕΝΑΡΞΗ', '18'], ['_:6', 'http://dilab77.ionio.gr/swp/c17kavv/vocab#ΛΗΞΗ', '21'], ['_:6', 'http://dilab77.ionio.gr/swp/c17kavv/vocab#ΚΑΘΗΓΗΤΗΣ', 'http://dilab77.ionio.gr/swp/c17kavv/resource/ΚΕΡΜΑΝΙΔΟΥ'], ['_:6', 'http://dilab77.ionio.gr/swp/c17kavv/vocab#ΜΑΘΗΜΑ', 'http://dilab77.ionio.gr/swp/c17kavv/resource/ΕΞΟΡΥΞΗ%20ΔΕΔΟΜΕΝΩΝ'], ['_:6', 'http://dilab77.ionio.gr/swp/c17kavv/vocab#ΑΙΘΟΥΣΑ', 'http://dilab77.ionio.gr/swp/c17kavv/resource/ΑΙΘΟΥΣΑ3']]\n"
     ]
    }
   ],
   "source": [
    "import csv\n",
    "\n",
    "URIlist = []\n",
    "with open('CSVURI.csv',newline='') as ifp:\n",
    "    reader = csv.reader(ifp)\n",
    "    \n",
    "    for row in reader:\n",
    "       URIlist.append(row)\n",
    "        \n",
    "print(URIlist) "
   ]
  },
  {
   "cell_type": "markdown",
   "metadata": {
    "deletable": true,
    "editable": true
   },
   "source": [
    "## 2. Καθορίστε τους τύπους δεδομένων\n",
    "\n",
    "Οι απλές τιμές (literals) πρέπει να μετατραπούν σε **έγκυρη σύνταξη N-Triples**. Μέσω της Python\n",
    "\n",
    "* Εκφράστε τις ημέρες και το εξάμηνο σε απλά strings (π.χ. `\"Δευτέρα\"`).\n",
    "* Μετατρέψτε τις ώρες στο τύπο `xsd:time`.\n",
    "* Όλα τα URIs πρέπει να είναι μέσα σε `< >`.\n",
    "\n",
    "Ανατρέξτε στις διαφάνειες της τρέχουσας ενότητας για τη σωστή σύνταξη των προηγούμενων!\n",
    "\n",
    "**Σημείωση:** Ο τύπος `xsd:time` **πρέπει υποχρεωτικά** να έχει τη μορφή (ώρα, λεπτά, δευτερόλεπτα), π.χ. `\"18:00:00\"^^<http://www.w3.org/2001/XMLSchema#time>`."
   ]
  },
  {
   "cell_type": "code",
   "execution_count": 47,
   "metadata": {
    "collapsed": false,
    "deletable": true,
    "editable": true
   },
   "outputs": [],
   "source": [
    "NTriplesList = []\n",
    "for s,p,o in URIlist :\n",
    "\n",
    "    if (p == 'http://dilab77.ionio.gr/swp/c17kavv/vocab#ΕΝΑΡΞΗ')  or (p == 'http://dilab77.ionio.gr/swp/c17kavv/vocab#ΛΗΞΗ'):\n",
    "        o =  '\"' + o + ':00' + ':00\"' + '^^<http://www.w3.org/2001/XMLSchema#time>'\n",
    "    elif   p == 'http://dilab77.ionio.gr/swp/c17kavv/vocab#ΗΜΕΡΑ':\n",
    "        o = '\"' + o + '\"'\n",
    "    else :\n",
    "         o = '<' + o + '>'\n",
    "    #--Νέος κώδικας- Προσθήκη των δηλώσεων rdf: type        \n",
    "    if (p == 'http://dilab77.ionio.gr/swp/c17kavv/vocab#ΚΑΘΗΓΗΤΗΣ%20'):\n",
    "        s =  o \n",
    "        p = 'http://www.w3.org/1999/02/22-rdf-syntax-ns#type'\n",
    "        o = '<http://dilab77.ionio.gr/swp/c17kavv/vocab#ΚΑΘΗΓΗΤΗΣ%20>'\n",
    "    elif (p == 'http://dilab77.ionio.gr/swp/c17kavv/vocab#ΜΑΘΗΜΑ'):\n",
    "        s =  o \n",
    "        p = 'http://www.w3.org/1999/02/22-rdf-syntax-ns#type'\n",
    "        o = '<http://dilab77.ionio.gr/swp/c17kavv/vocab#ΜΑΘΗΜΑ>'    \n",
    "    elif (p == 'http://dilab77.ionio.gr/swp/c17kavv/vocab#ΑΙΘΟΥΣΑ'):\n",
    "        s =  o \n",
    "        p = 'http://www.w3.org/1999/02/22-rdf-syntax-ns#type'\n",
    "        o = '<http://dilab77.ionio.gr/swp/c17kavv/vocab#ΑΙΘΟΥΣΑ>'     \n",
    "   \n",
    "    p = '<' + p + '>'\n",
    "    NTriplesList.append([s,p,o])"
   ]
  },
  {
   "cell_type": "markdown",
   "metadata": {
    "deletable": true,
    "editable": true
   },
   "source": [
    "## 3. Παραγωγή αρχείου N-triples\n",
    "\n",
    "Στο τελευταίο αυτό βήμα, αποθηκεύστε το περιεχόμενο των τριάδων σε αρχείο κειμένου σύμφωνα με το πρότυπο N-Triples. Το αρχείο σας θα πρέπει να έχει κατάληξη `.nt` .\n",
    "\n",
    "**Θυμηθείτε**: κάθε γραμμή ενός αρχείου N-Triples περιέχει **ακριβώς μία** τριάδα, με τα μέρη των τριάδων χωρισμένα με κενό (space). Η γραμμή τελειώνει με την **τελεία**."
   ]
  },
  {
   "cell_type": "markdown",
   "metadata": {
    "deletable": true,
    "editable": true
   },
   "source": [
    "#### Υποδειξη: μορφοποίηση strings\n",
    "\n",
    "Μια απλή μορφοποίηση ενός string μπορεί να γίνει ως εξής\n",
    "\n",
    "```python\n",
    "a = 1\n",
    "b = 2\n",
    "print('{}+{}={}'.format(a,b,a+b))\n",
    "```\n",
    "\n",
    "Χρησιμοποιήστε τη `format()` όπως στο παράδειγμα για να φτιάξετε κάθε γραμμή του αρχείου N-Triples. Όταν φτάσετε στο επιθυμητό αποτέλεσμα, αντικαταστήστε την `print()` με τη μέθοδο `write()` του αρχείου εξόδου. Προσοχή: η `write()` δεν προσθέτει αυτόματα χαρακτήρα νέας γραμμής `\\n`, πρέπει να τον βάλετε εσείς!"
   ]
  },
  {
   "cell_type": "code",
   "execution_count": 48,
   "metadata": {
    "collapsed": false,
    "deletable": true,
    "editable": true
   },
   "outputs": [],
   "source": [
    "with open('scheduledata.nt','w') as ofp:\n",
    "    for s,p,o in NTriplesList:\n",
    "        thisLine  = s +' '+ p +' ' + o +'.'  + '\\n'\n",
    "        ofp.write(thisLine)"
   ]
  },
  {
   "cell_type": "markdown",
   "metadata": {
    "deletable": true,
    "editable": true
   },
   "source": [
    "## 4. Είναι το αρχείο σας έγκυρο;\n",
    "\n",
    "Βεβαιωθείτε ότι το αρχείο σας έχει έγκυρη μορφή N-Triples. Αυτό θα το κάνετε μέσω του εργαλείου `riot`. Στο επόμενο κελί εισάγετε το εξής:\n",
    "\n",
    "`!riot --validate yourfile.nt`\n",
    "\n",
    "Περιμένετε μέχρι να ολοκληρωθεί η εκτέλεση (να μην φαίνεται `In [*]`). **Αν το αρχείο σας είναι ΟΚ, δεν θα δείτε τίποτα ως έξοδο!**"
   ]
  },
  {
   "cell_type": "code",
   "execution_count": 49,
   "metadata": {
    "collapsed": false,
    "deletable": true,
    "editable": true
   },
   "outputs": [],
   "source": [
    "!riot --validate scheduledata.nt"
   ]
  },
  {
   "cell_type": "markdown",
   "metadata": {
    "deletable": true,
    "editable": true
   },
   "source": [
    "## 5. Δεδομένα RDF σε άλλες μορφές.\n",
    "\n",
    "Εφόσον έχετε έγκυρο αρχείο N-Triples, μπορείτε να το μετατρέψετε σε διάφορες άλλες μορφές. Το εργαλείο `riot` θα σας βοηθήσει πάλι:\n",
    "\n",
    "Δοκιμάστε την εντολή `!riot --output=FMT yourfile.nt`, βάζοντας στη θέση του `FMT` τα `turtle` και `rdfxml`. Η έξοδος θα φανεί στην οθόνη σας.\n",
    "\n",
    "Αν θέλετε να σώσετε σε νέο αρχείο την καινούργια μορφή, δώστε π.χ.:\n",
    "\n",
    "`!riot --output=turtle yourfile.nt > yourfile.ttl`"
   ]
  },
  {
   "cell_type": "code",
   "execution_count": 51,
   "metadata": {
    "collapsed": false,
    "deletable": true,
    "editable": true
   },
   "outputs": [],
   "source": [
    "!riot --output=turtle scheduledata.nt > scheduledata.ttl "
   ]
  },
  {
   "cell_type": "code",
   "execution_count": 6,
   "metadata": {
    "collapsed": true,
    "deletable": true,
    "editable": true
   },
   "outputs": [],
   "source": [
    "# δοκιμάστε να μετατρέψετε σε νέο αρχείο μορφής Turtle"
   ]
  },
  {
   "cell_type": "markdown",
   "metadata": {
    "deletable": true,
    "editable": true
   },
   "source": [
    "## Το τέλος του ωρολογίου προγράμματος.\n",
    "\n",
    "**Συγχαρητήρια!!** Μόλις περάσατε από τα ad hoc σημασιολογικά δεδομένα σε πρότυπες μορφές αναπαράστασης. Τώρα πλέον μπορείτε να επεξεργαστείτε τα δεδομένα σας με όλα τα διαθέσιμα εργαλεία του Σημασιολογικού Ιστού!"
   ]
  }
 ],
 "metadata": {
  "kernelspec": {
   "display_name": "Python 3",
   "language": "python",
   "name": "python3"
  },
  "language_info": {
   "codemirror_mode": {
    "name": "ipython",
    "version": 3
   },
   "file_extension": ".py",
   "mimetype": "text/x-python",
   "name": "python",
   "nbconvert_exporter": "python",
   "pygments_lexer": "ipython3",
   "version": "3.4.4"
  }
 },
 "nbformat": 4,
 "nbformat_minor": 0
}
